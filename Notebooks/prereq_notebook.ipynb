{
 "cells": [
  {
   "cell_type": "code",
   "execution_count": 5,
   "id": "1017dd12",
   "metadata": {},
   "outputs": [
    {
     "name": "stdout",
     "output_type": "stream",
     "text": [
      "Dan is learning the new Data Analysis curriculum!\n"
     ]
    }
   ],
   "source": [
    "course_name = \"Data Analysis\"\n",
    "my_name = \"Dan\"\n",
    "print(f\"{my_name} is learning the new {course_name} curriculum!\")"
   ]
  },
  {
   "cell_type": "markdown",
   "id": "e8eef8a4",
   "metadata": {},
   "source": [
    "# Introduction\n",
    "\n",
    "I am Dan Collins, a Training Coordinator for Code:You. I am new to Data Analysis and want to learn more about it so that I can course participants wherever I can!"
   ]
  }
 ],
 "metadata": {
  "kernelspec": {
   "display_name": "Python 3",
   "language": "python",
   "name": "python3"
  },
  "language_info": {
   "codemirror_mode": {
    "name": "ipython",
    "version": 3
   },
   "file_extension": ".py",
   "mimetype": "text/x-python",
   "name": "python",
   "nbconvert_exporter": "python",
   "pygments_lexer": "ipython3",
   "version": "3.13.0"
  }
 },
 "nbformat": 4,
 "nbformat_minor": 5
}
